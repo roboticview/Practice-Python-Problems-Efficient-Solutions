{
 "cells": [
  {
   "cell_type": "markdown",
   "id": "484e04ba",
   "metadata": {},
   "source": [
    "# How to Check if a Python String is a Palindrome"
   ]
  },
  {
   "cell_type": "markdown",
   "id": "b2698b1f",
   "metadata": {},
   "source": [
    "# <span style=\"color: blue;\">Practice Python Problems & Efficient Solutions |</span> <span style=\"color: red;\">RoboticView.com</span>"
   ]
  },
  {
   "cell_type": "markdown",
   "id": "9a8e2d88",
   "metadata": {},
   "source": [
    "Python Palindrome Problem: Not only is it a highly popular Python exercise for learning about functions and the range function, but it's also a frequent interview question in the world of Python jobs. In fact, I recall being tasked with writing a Python palindrome code during an early-stage technical job interview."
   ]
  },
  {
   "cell_type": "markdown",
   "id": "53327081",
   "metadata": {},
   "source": [
    "A palindrome is a word, phrase, number, or or Python string that reads the same forward and backward, ignoring spaces, punctuation, and capitalization. In other words, it remains unchanged when its order is reversed. Palindromes are often used as puzzles or wordplay and can be found in various languages. Examples of palindromic words include \"racecar\",\"radar,\" \"level,\" and \"civic,\" while palindromic phrases may include \"A man, a plan, a canal, Panama!\" and \"Madam, in Eden, I'm Adam.\""
   ]
  },
  {
   "cell_type": "code",
   "execution_count": 29,
   "id": "e2a645b4",
   "metadata": {},
   "outputs": [
    {
     "name": "stdout",
     "output_type": "stream",
     "text": [
      "Give me a word racecar\n",
      "---> 0 r\n",
      "<--- 6 r\n",
      "---> 1 a\n",
      "<--- 5 a\n",
      "---> 2 c\n",
      "<--- 4 c\n",
      "racecar is a palindrome\n"
     ]
    }
   ],
   "source": [
    "word = input(\"Give me a word \")\n",
    "\n",
    "is_palindrome = True\n",
    "\n",
    "for index in range(len(word)//2):\n",
    "    print(\"--->\",index, word[index])\n",
    "    print(\"<---\",len(word)-1-index, word[len(word)-1-index])\n",
    "    if word[index] != word[len(word)-1-index]:\n",
    "        is_palindrome = False\n",
    "        \n",
    "if is_palindrome:\n",
    "    print(f\"{word} is a palindrome\")\n",
    "else:\n",
    "    print(f\"{word} is NOT a palindrome\")"
   ]
  },
  {
   "cell_type": "code",
   "execution_count": 30,
   "id": "75f0894b",
   "metadata": {},
   "outputs": [
    {
     "data": {
      "text/plain": [
       "True"
      ]
     },
     "execution_count": 30,
     "metadata": {},
     "output_type": "execute_result"
    }
   ],
   "source": [
    "word == word[::-1]"
   ]
  },
  {
   "cell_type": "code",
   "execution_count": null,
   "id": "dee2b6a2",
   "metadata": {},
   "outputs": [],
   "source": []
  }
 ],
 "metadata": {
  "kernelspec": {
   "display_name": "Python 3 (ipykernel)",
   "language": "python",
   "name": "python3"
  },
  "language_info": {
   "codemirror_mode": {
    "name": "ipython",
    "version": 3
   },
   "file_extension": ".py",
   "mimetype": "text/x-python",
   "name": "python",
   "nbconvert_exporter": "python",
   "pygments_lexer": "ipython3",
   "version": "3.10.9"
  }
 },
 "nbformat": 4,
 "nbformat_minor": 5
}
