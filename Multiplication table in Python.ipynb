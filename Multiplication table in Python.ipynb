{
 "cells": [
  {
   "cell_type": "markdown",
   "id": "f835d2f6",
   "metadata": {},
   "source": [
    "# Multiplication table in Python"
   ]
  },
  {
   "cell_type": "markdown",
   "id": "5d28ed5f",
   "metadata": {},
   "source": [
    "# <span style=\"color: blue;\">Practice Python Problems & Efficient Solutions |</span> <span style=\"color: red;\">RoboticView.com</span>"
   ]
  },
  {
   "cell_type": "markdown",
   "id": "19c163c1",
   "metadata": {},
   "source": [
    "A multiplication table in Python is important for learners as it reinforces basic arithmetic, introduces looping and iteration concepts, enhances pattern recognition and mathematical logic, and builds foundational Python programming skills. It offers practical experience in coding, particularly in working with loops, functions, and problem-solving, setting a strong foundation for more advanced programming challenges."
   ]
  },
  {
   "cell_type": "code",
   "execution_count": 2,
   "id": "8c75d448",
   "metadata": {},
   "outputs": [],
   "source": [
    "name = \"John\"\n",
    "greeting = \"Hello {}\""
   ]
  },
  {
   "cell_type": "code",
   "execution_count": 3,
   "id": "039d73c5",
   "metadata": {},
   "outputs": [
    {
     "data": {
      "text/plain": [
       "'Hello John'"
      ]
     },
     "execution_count": 3,
     "metadata": {},
     "output_type": "execute_result"
    }
   ],
   "source": [
    "greeting.format(name)"
   ]
  },
  {
   "cell_type": "code",
   "execution_count": 4,
   "id": "c2c03544",
   "metadata": {},
   "outputs": [],
   "source": [
    "greeting = f\"Hello {name}\""
   ]
  },
  {
   "cell_type": "code",
   "execution_count": 5,
   "id": "2be99207",
   "metadata": {},
   "outputs": [
    {
     "data": {
      "text/plain": [
       "'Hello John'"
      ]
     },
     "execution_count": 5,
     "metadata": {},
     "output_type": "execute_result"
    }
   ],
   "source": [
    "greeting"
   ]
  },
  {
   "cell_type": "code",
   "execution_count": 24,
   "id": "f848e97b",
   "metadata": {},
   "outputs": [
    {
     "name": "stdout",
     "output_type": "stream",
     "text": [
      "   1   2   3   4   5   6   7   8   9  10\n",
      "   2   4   6   8  10  12  14  16  18  20\n",
      "   3   6   9  12  15  18  21  24  27  30\n",
      "   4   8  12  16  20  24  28  32  36  40\n",
      "   5  10  15  20  25  30  35  40  45  50\n",
      "   6  12  18  24  30  36  42  48  54  60\n",
      "   7  14  21  28  35  42  49  56  63  70\n",
      "   8  16  24  32  40  48  56  64  72  80\n",
      "   9  18  27  36  45  54  63  72  81  90\n",
      "  10  20  30  40  50  60  70  80  90 100\n"
     ]
    }
   ],
   "source": [
    "for i in range(1,11):\n",
    "    for j in range(1,11):\n",
    "        print(\"{:4}\".format(i*j), end='')\n",
    "    print(end=\"\\n\")"
   ]
  },
  {
   "cell_type": "code",
   "execution_count": null,
   "id": "464a8720",
   "metadata": {},
   "outputs": [],
   "source": []
  },
  {
   "cell_type": "code",
   "execution_count": null,
   "id": "ba373646",
   "metadata": {},
   "outputs": [],
   "source": []
  },
  {
   "cell_type": "code",
   "execution_count": null,
   "id": "191c7db0",
   "metadata": {},
   "outputs": [],
   "source": []
  },
  {
   "cell_type": "code",
   "execution_count": null,
   "id": "0fe9ad5c",
   "metadata": {},
   "outputs": [],
   "source": []
  },
  {
   "cell_type": "code",
   "execution_count": null,
   "id": "d7d8f66c",
   "metadata": {},
   "outputs": [],
   "source": []
  }
 ],
 "metadata": {
  "kernelspec": {
   "display_name": "Python 3 (ipykernel)",
   "language": "python",
   "name": "python3"
  },
  "language_info": {
   "codemirror_mode": {
    "name": "ipython",
    "version": 3
   },
   "file_extension": ".py",
   "mimetype": "text/x-python",
   "name": "python",
   "nbconvert_exporter": "python",
   "pygments_lexer": "ipython3",
   "version": "3.10.9"
  }
 },
 "nbformat": 4,
 "nbformat_minor": 5
}
