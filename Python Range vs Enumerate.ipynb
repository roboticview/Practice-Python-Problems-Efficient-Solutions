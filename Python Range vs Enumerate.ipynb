{
 "cells": [
  {
   "cell_type": "markdown",
   "id": "f8ac5506",
   "metadata": {},
   "source": [
    "# Python Range vs Enumerate"
   ]
  },
  {
   "cell_type": "markdown",
   "id": "292c081e",
   "metadata": {},
   "source": [
    "# Practice Python Problems & Efficient Solutions | RoboticView.com"
   ]
  },
  {
   "cell_type": "markdown",
   "id": "2d87d51e",
   "metadata": {},
   "source": [
    "In Python, the range() function is used to generate a sequence of numbers within a specified range. It's commonly used in loops and iterations, allowing you to easily create a range of integers.\n",
    "\n",
    "The range() function can take one, two, or three arguments:\n",
    "```\n",
    "start (inclusive): The starting value of the sequence (inclusive). If not provided, it defaults to 0.\n",
    "stop (exclusive): The ending value of the sequence (exclusive). This means the sequence will include numbers up to, but not including, the stop value.\n",
    "step (optional): The step size, which determines the difference between each number in the sequence. If not provided, it defaults to 1.\n",
    "```    "
   ]
  },
  {
   "cell_type": "markdown",
   "id": "843fb6e8",
   "metadata": {},
   "source": [
    "The enumerate() function in Python is a built-in function that is used to iterate over an iterable (such as a list, tuple, or string) while keeping track of both the elements and their corresponding indices. It returns an iterable of tuples where each tuple contains an index and the corresponding element from the original iterable.\n",
    "```\n",
    "iterable: The iterable you want to enumerate (e.g., a list, tuple, string, etc.).\n",
    "start (optional): An integer value that specifies the starting index. It's optional, and if not provided, it defaults to 0.\n",
    "```"
   ]
  },
  {
   "cell_type": "code",
   "execution_count": 21,
   "id": "d4eb3a19",
   "metadata": {},
   "outputs": [
    {
     "name": "stdout",
     "output_type": "stream",
     "text": [
      " * \n",
      " *  * \n",
      " *  *  * \n",
      " *  *  *  * \n",
      " *  *  *  *  * \n",
      " *  *  *  *  *  * \n",
      " *  *  *  *  * \n",
      " *  *  *  * \n",
      " *  *  * \n",
      " *  * \n",
      " * \n"
     ]
    }
   ],
   "source": [
    "for i in range(1,6,1):\n",
    "    print(\" * \"*i)\n",
    "for i in range(6,0,-1):\n",
    "    print(\" * \"*i)"
   ]
  },
  {
   "cell_type": "code",
   "execution_count": 33,
   "id": "fc3da2de",
   "metadata": {},
   "outputs": [],
   "source": [
    "words = [\"orange\",\"orange\",\"orange\",\"banana\",\"orange\",\"orange\"]"
   ]
  },
  {
   "cell_type": "code",
   "execution_count": 36,
   "id": "43eab4be",
   "metadata": {},
   "outputs": [
    {
     "name": "stdout",
     "output_type": "stream",
     "text": [
      "3 banana\n"
     ]
    },
    {
     "data": {
      "text/plain": [
       "['orange', 'orange', 'orange', 'ornage', 'orange', 'orange']"
      ]
     },
     "execution_count": 36,
     "metadata": {},
     "output_type": "execute_result"
    }
   ],
   "source": [
    "for index in range(len(words)):\n",
    "    if words[index] == \"banana\":\n",
    "        print(index, words[index])\n",
    "        words[index] = \"ornage\"\n",
    "words"
   ]
  },
  {
   "cell_type": "code",
   "execution_count": 43,
   "id": "551e89cd",
   "metadata": {},
   "outputs": [
    {
     "name": "stdout",
     "output_type": "stream",
     "text": [
      "3 banana\n"
     ]
    },
    {
     "data": {
      "text/plain": [
       "['orange', 'orange', 'orange', 'ornage', 'orange', 'orange']"
      ]
     },
     "execution_count": 43,
     "metadata": {},
     "output_type": "execute_result"
    }
   ],
   "source": [
    "words = [\"orange\",\"orange\",\"orange\",\"banana\",\"orange\",\"orange\"]\n",
    "\n",
    "for index, word in enumerate(words):\n",
    "    if word == \"banana\":\n",
    "        print(index, word)\n",
    "        words[index] = \"ornage\"\n",
    "words"
   ]
  },
  {
   "cell_type": "code",
   "execution_count": null,
   "id": "c4c06c94",
   "metadata": {},
   "outputs": [],
   "source": []
  }
 ],
 "metadata": {
  "kernelspec": {
   "display_name": "Python 3 (ipykernel)",
   "language": "python",
   "name": "python3"
  },
  "language_info": {
   "codemirror_mode": {
    "name": "ipython",
    "version": 3
   },
   "file_extension": ".py",
   "mimetype": "text/x-python",
   "name": "python",
   "nbconvert_exporter": "python",
   "pygments_lexer": "ipython3",
   "version": "3.10.9"
  }
 },
 "nbformat": 4,
 "nbformat_minor": 5
}
