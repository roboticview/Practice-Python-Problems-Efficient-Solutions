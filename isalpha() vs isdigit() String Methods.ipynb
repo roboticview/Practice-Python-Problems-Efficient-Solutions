{
 "cells": [
  {
   "cell_type": "markdown",
   "id": "93d035f6",
   "metadata": {},
   "source": [
    "# str.isalpha() vs str.isdigit() String Methods"
   ]
  },
  {
   "cell_type": "markdown",
   "id": "292c03d9",
   "metadata": {},
   "source": [
    "# Practice Python Problems & Efficient Solutions | RoboticView.com"
   ]
  },
  {
   "cell_type": "markdown",
   "id": "c4ad304c",
   "metadata": {},
   "source": [
    "```\n",
    "The str.isalpha() method in Python is a built-in string method that is used to check whether all the characters in a given string are alphabetic characters (letters) or not. It returns True if all characters in the string are letters, and False otherwise.\n",
    "```"
   ]
  },
  {
   "cell_type": "markdown",
   "id": "a0721632",
   "metadata": {},
   "source": [
    "```\n",
    "The str.isdigit() method in Python is a built-in string method that is used to check whether all the characters in a given string are digits (numeric characters) or not. It returns True if all characters in the string are numeric digits (0 to 9), and False otherwise\n",
    "```"
   ]
  },
  {
   "cell_type": "code",
   "execution_count": 16,
   "id": "c7893eca",
   "metadata": {},
   "outputs": [
    {
     "name": "stdout",
     "output_type": "stream",
     "text": [
      "Give me a number two\n",
      "Not a valid input\n"
     ]
    }
   ],
   "source": [
    "number = input(\"Give me a number \")\n",
    "if number.isdigit():\n",
    "    number = int(number)\n",
    "    if number % 2 == 0:\n",
    "        print(f\"{number} is Even number\")\n",
    "    else:\n",
    "        print(f\"{number} is Odd number\")\n",
    "else:\n",
    "    print(\"Not a valid input\")"
   ]
  },
  {
   "cell_type": "code",
   "execution_count": 23,
   "id": "17262803",
   "metadata": {},
   "outputs": [
    {
     "name": "stdout",
     "output_type": "stream",
     "text": [
      "There are 5 letters and 5 numbers\n"
     ]
    }
   ],
   "source": [
    "word = \"apple12345\"\n",
    "\n",
    "counter_letter = 0\n",
    "counter_number = 0\n",
    "\n",
    "for char in word:\n",
    "    if char.isalpha():\n",
    "        counter_letter += 1\n",
    "    elif char.isdigit():\n",
    "        counter_number += 1\n",
    "print(f\"There are {counter_letter} letters and {counter_number} numbers\")"
   ]
  },
  {
   "cell_type": "code",
   "execution_count": 24,
   "id": "eff7e0e4",
   "metadata": {},
   "outputs": [
    {
     "data": {
      "text/plain": [
       "True"
      ]
     },
     "execution_count": 24,
     "metadata": {},
     "output_type": "execute_result"
    }
   ],
   "source": [
    "\"apple\".isalpha()"
   ]
  },
  {
   "cell_type": "code",
   "execution_count": 25,
   "id": "dd4e6f17",
   "metadata": {},
   "outputs": [
    {
     "data": {
      "text/plain": [
       "True"
      ]
     },
     "execution_count": 25,
     "metadata": {},
     "output_type": "execute_result"
    }
   ],
   "source": [
    "\"12345\".isdigit()"
   ]
  },
  {
   "cell_type": "code",
   "execution_count": null,
   "id": "548431a4",
   "metadata": {},
   "outputs": [],
   "source": []
  }
 ],
 "metadata": {
  "kernelspec": {
   "display_name": "Python 3 (ipykernel)",
   "language": "python",
   "name": "python3"
  },
  "language_info": {
   "codemirror_mode": {
    "name": "ipython",
    "version": 3
   },
   "file_extension": ".py",
   "mimetype": "text/x-python",
   "name": "python",
   "nbconvert_exporter": "python",
   "pygments_lexer": "ipython3",
   "version": "3.10.9"
  }
 },
 "nbformat": 4,
 "nbformat_minor": 5
}
