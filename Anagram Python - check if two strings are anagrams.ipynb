{
 "cells": [
  {
   "cell_type": "markdown",
   "id": "9a7b80a8",
   "metadata": {},
   "source": [
    "# Anagram Python - check if two strings are anagrams."
   ]
  },
  {
   "cell_type": "markdown",
   "id": "d480d991",
   "metadata": {},
   "source": [
    "# <span style=\"color: blue;\">Practice Python Problems & Efficient Solutions |</span> <span style=\"color: red;\">RoboticView.com</span>"
   ]
  },
  {
   "cell_type": "markdown",
   "id": "53e23eb0",
   "metadata": {},
   "source": [
    "Anagram Python problems are important for learning how to code as they promote algorithmic thinking, encourage the use of data structures and string manipulation, and enhance logical reasoning and problem-solving skills. Mastering these skills through anagram challenges not only strengthens coding proficiency but also prepares individuals for coding interviews and real-world programming tasks."
   ]
  },
  {
   "cell_type": "markdown",
   "id": "8ae7f720",
   "metadata": {},
   "source": [
    "An anagram is a word or phrase formed by rearranging the letters of another word or phrase, using all the original letters exactly once. In other words, it's a rearrangement of characters that results in a different but valid word or phrase. For example, \"listen\" and \"silent\" are anagrams of each other."
   ]
  },
  {
   "cell_type": "code",
   "execution_count": 27,
   "id": "20458892",
   "metadata": {},
   "outputs": [],
   "source": [
    "def word_dic(word):\n",
    "    d = {}\n",
    "    for letter in word:\n",
    "        if letter in d:\n",
    "            d[letter] += 1\n",
    "        else:\n",
    "            d[letter] =  1\n",
    "    return d"
   ]
  },
  {
   "cell_type": "code",
   "execution_count": 29,
   "id": "90f7cbd1",
   "metadata": {},
   "outputs": [],
   "source": [
    "def anagrams():\n",
    "    word1 = input(\"Give me a word \")\n",
    "    word2 = input(\"Give me another word \")\n",
    "    if word_dic(word1) == word_dic(word2):\n",
    "        return True\n",
    "    else:\n",
    "        return False"
   ]
  },
  {
   "cell_type": "code",
   "execution_count": 32,
   "id": "e971c35d",
   "metadata": {},
   "outputs": [
    {
     "name": "stdout",
     "output_type": "stream",
     "text": [
      "Give me a word add\n",
      "Give me another word dad\n"
     ]
    },
    {
     "data": {
      "text/plain": [
       "True"
      ]
     },
     "execution_count": 32,
     "metadata": {},
     "output_type": "execute_result"
    }
   ],
   "source": [
    "anagrams()"
   ]
  },
  {
   "cell_type": "code",
   "execution_count": 19,
   "id": "6c24a965",
   "metadata": {},
   "outputs": [
    {
     "name": "stdout",
     "output_type": "stream",
     "text": [
      "a not in d, so value is 1\n",
      "{'a': 1}\n",
      "d not in d, so value is 1\n",
      "{'a': 1, 'd': 1}\n",
      "d in d, so value is + 1\n",
      "{'a': 1, 'd': 2}\n"
     ]
    }
   ],
   "source": [
    "d = {}\n",
    "\n",
    "for letter in word1:\n",
    "    if letter not in d:\n",
    "        print(f\"{letter} not in d, so value is 1\")\n",
    "        d[letter] = 1\n",
    "    else:\n",
    "        d[letter] = d[letter] + 1\n",
    "        print(f\"{letter} in d, so value is + 1\")\n",
    "    print(d)"
   ]
  },
  {
   "cell_type": "code",
   "execution_count": 33,
   "id": "02b5d001",
   "metadata": {},
   "outputs": [],
   "source": [
    "alist = [\"dad\",\"add\",\"banana\",\"apple\"]"
   ]
  },
  {
   "cell_type": "code",
   "execution_count": 34,
   "id": "5ea7efb5",
   "metadata": {},
   "outputs": [
    {
     "name": "stdout",
     "output_type": "stream",
     "text": [
      "{'d': 2, 'a': 1}\n",
      "{'a': 1, 'd': 2}\n",
      "{'b': 1, 'a': 3, 'n': 2}\n",
      "{'a': 1, 'p': 2, 'l': 1, 'e': 1}\n"
     ]
    }
   ],
   "source": [
    "for item in alist:\n",
    "    print(word_dic(item))"
   ]
  },
  {
   "cell_type": "code",
   "execution_count": 35,
   "id": "d4230fc1",
   "metadata": {},
   "outputs": [
    {
     "data": {
      "text/plain": [
       "True"
      ]
     },
     "execution_count": 35,
     "metadata": {},
     "output_type": "execute_result"
    }
   ],
   "source": [
    "sorted(\"dad\") == sorted(\"add\")"
   ]
  },
  {
   "cell_type": "code",
   "execution_count": null,
   "id": "f9ae8a4d",
   "metadata": {},
   "outputs": [],
   "source": []
  }
 ],
 "metadata": {
  "kernelspec": {
   "display_name": "Python 3 (ipykernel)",
   "language": "python",
   "name": "python3"
  },
  "language_info": {
   "codemirror_mode": {
    "name": "ipython",
    "version": 3
   },
   "file_extension": ".py",
   "mimetype": "text/x-python",
   "name": "python",
   "nbconvert_exporter": "python",
   "pygments_lexer": "ipython3",
   "version": "3.10.9"
  }
 },
 "nbformat": 4,
 "nbformat_minor": 5
}
